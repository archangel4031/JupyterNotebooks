{
 "cells": [
  {
   "cell_type": "markdown",
   "id": "b748066a",
   "metadata": {},
   "source": [
    "# Assignment 1\n",
    "\n",
    "## Task\n",
    "- Print a list and a string in reverse order\n"
   ]
  },
  {
   "cell_type": "markdown",
   "id": "c1b9a060",
   "metadata": {},
   "source": [
    "##### Declare Variables\n"
   ]
  },
  {
   "cell_type": "code",
   "execution_count": 1,
   "id": "496af8e3",
   "metadata": {},
   "outputs": [],
   "source": [
    "numList = [1, 2, 3, 4, 5, 6, 7, 8, 9]\n",
    "string = \"a quick brown fox jumps over the lazy dog\""
   ]
  },
  {
   "cell_type": "markdown",
   "id": "a4e03dd9",
   "metadata": {},
   "source": [
    "##### Print Original String and Number List"
   ]
  },
  {
   "cell_type": "code",
   "execution_count": 2,
   "metadata": {},
   "outputs": [
    {
     "name": "stdout",
     "output_type": "stream",
     "text": [
      "original Number List is\n",
      "0  1  2  3  4  5  6  7  8  \n",
      "Original String is\n",
      "a quick brown fox jumps over the lazy dog\n"
     ]
    }
   ],
   "source": [
    "print(\"original Number List is\")\n",
    "for i in range(0, len(numList)):\n",
    "    print(i, \" \", end=\"\")\n",
    "\n",
    "print()\n",
    "\n",
    "print(\"Original String is\")\n",
    "print(string)"
   ]
  },
  {
   "cell_type": "markdown",
   "id": "e393a519",
   "metadata": {},
   "source": [
    "##### Print in Reverse Order"
   ]
  },
  {
   "cell_type": "code",
   "execution_count": 3,
   "id": "ae6b7ca0",
   "metadata": {},
   "outputs": [
    {
     "name": "stdout",
     "output_type": "stream",
     "text": [
      "Reverse Number list is: \n",
      "9  8  7  6  5  4  3  2  1  \n",
      "Reverse String is:\n",
      "god yzal eht revo spmuj xof nworb kciuq \n"
     ]
    }
   ],
   "source": [
    "\n",
    "print(\"Reverse Number list is: \")\n",
    "for num in range(len(numList), 0 , -1):\n",
    "    print(num, \" \", end='')\n",
    "print()\n",
    "\n",
    "print(\"Reverse String is:\")\n",
    "for charIndex in range(len(string)-1, 0, -1):\n",
    "    print(string[charIndex], end=\"\")\n",
    "print()\n"
   ]
  }
 ],
 "metadata": {
  "kernelspec": {
   "display_name": "Python 3.9.12 ('base')",
   "language": "python",
   "name": "python3"
  },
  "language_info": {
   "codemirror_mode": {
    "name": "ipython",
    "version": 3
   },
   "file_extension": ".py",
   "mimetype": "text/x-python",
   "name": "python",
   "nbconvert_exporter": "python",
   "pygments_lexer": "ipython3",
   "version": "3.9.12"
  },
  "vscode": {
   "interpreter": {
    "hash": "1d5334fe9b82e8c016b8b2657765205a9a9ba0b9bc469dbf5ca7c631ff3e3ab7"
   }
  }
 },
 "nbformat": 4,
 "nbformat_minor": 5
}
