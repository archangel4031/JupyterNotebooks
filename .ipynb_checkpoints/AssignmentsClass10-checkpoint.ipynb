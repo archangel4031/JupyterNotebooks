{
 "cells": [
  {
   "cell_type": "markdown",
   "id": "b748066a",
   "metadata": {},
   "source": [
    "# Assignments Class 10\n",
    "\n",
    "## About\n",
    "\n",
    "This folder contains assignments that were given in Class 10\n",
    "\n",
    "## Tasks\n",
    "- Print a list and a string in reverse order\n",
    "- Matrix Multiplication\n",
    "- Exception Handling Exercise"
   ]
  }
 ],
 "metadata": {
  "kernelspec": {
   "display_name": "Python 3 (ipykernel)",
   "language": "python",
   "name": "python3"
  },
  "language_info": {
   "codemirror_mode": {
    "name": "ipython",
    "version": 3
   },
   "file_extension": ".py",
   "mimetype": "text/x-python",
   "name": "python",
   "nbconvert_exporter": "python",
   "pygments_lexer": "ipython3",
   "version": "3.10.4"
  }
 },
 "nbformat": 4,
 "nbformat_minor": 5
}
