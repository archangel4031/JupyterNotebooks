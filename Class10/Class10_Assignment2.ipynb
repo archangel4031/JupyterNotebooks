{
 "cells": [
  {
   "cell_type": "markdown",
   "metadata": {},
   "source": [
    "# Assignment 2\n",
    "\n",
    "## Task\n",
    "- Martix Multiplication\n"
   ]
  },
  {
   "cell_type": "markdown",
   "metadata": {},
   "source": [
    "#### Declare Variables"
   ]
  },
  {
   "cell_type": "code",
   "execution_count": 50,
   "metadata": {},
   "outputs": [],
   "source": [
    "# Sentinel for Cross Product Computation\n",
    "flag = False\n",
    "\n",
    "# 2x3 Matrix\n",
    "X = [[1, 4, -2],\n",
    "     [3, 5, -6]]\n",
    "\n",
    "# 3x4\n",
    "Y = [[5, 2, 8, -1],\n",
    "     [3, 6, 4, 5],\n",
    "     [-2, 9, 7, -3]]"
   ]
  },
  {
   "cell_type": "markdown",
   "metadata": {},
   "source": [
    "#### Check if Cross Product is possible\n",
    "Cross product is only possible if Columns of X is equal to Rows of Y\n",
    "\n",
    "And X.Y ≠ Y.X"
   ]
  },
  {
   "cell_type": "code",
   "execution_count": 51,
   "metadata": {},
   "outputs": [
    {
     "name": "stdout",
     "output_type": "stream",
     "text": [
      "Cross Product Possible\n"
     ]
    }
   ],
   "source": [
    "# Cross product is only possible if column of X == rows of Y\n",
    "col = len(X[0])\n",
    "row = len(Y)\n",
    "\n",
    "# If equal, continue with Cross Product\n",
    "if col == row:\n",
    "    flag = True\n",
    "    print(\"Cross Product Possible\")\n",
    "\n",
    "# Initialize resultant list which will be Rows of X times Columns of Y\n",
    "if flag == True:\n",
    "    # Result Variable, defined as Rows of X to Columns of Y (in this case its 3x3)\n",
    "    crossProduct = [[0] * len(Y[0]) for _ in range(len(X))]\n",
    "\n",
    "# print(len(crossProduct), len(crossProduct[0]))\n",
    "# for row in crossProduct:\n",
    "#     print(crossProduct)\n"
   ]
  },
  {
   "cell_type": "markdown",
   "metadata": {},
   "source": [
    "#### Compute Cross Product\n",
    "~~I honestly have no idea how this works! Just copied it from Google :)~~\n",
    "\n",
    "JK, I learnt it from this video, [Multiplying Matrices - YouTube](https://www.youtube.com/watch?v=vzt9c7iWPxs)"
   ]
  },
  {
   "cell_type": "code",
   "execution_count": 52,
   "metadata": {},
   "outputs": [],
   "source": [
    "if flag:\n",
    "    # Iterate through rows of X\n",
    "    for i in range(len(X)):\n",
    "        # Iterate through columns of Y\n",
    "        for j in range(len(Y[0])):\n",
    "            # Iterate and add the multiplication result of RxC and store in resultant matrix\n",
    "            for k in range(len(Y)):\n",
    "                crossProduct[i][j] += X[i][k] * Y[k][j]\n"
   ]
  },
  {
   "cell_type": "markdown",
   "metadata": {},
   "source": [
    "#### Print the Result, in pretty way"
   ]
  },
  {
   "cell_type": "code",
   "execution_count": 53,
   "metadata": {},
   "outputs": [
    {
     "name": "stdout",
     "output_type": "stream",
     "text": [
      "[21, 8, 10, 25]\n",
      "[42, -18, 2, 40]\n"
     ]
    }
   ],
   "source": [
    "for row in crossProduct:\n",
    "    print(row)\n"
   ]
  }
 ],
 "metadata": {
  "kernelspec": {
   "display_name": "Python 3.9.12 ('base')",
   "language": "python",
   "name": "python3"
  },
  "language_info": {
   "codemirror_mode": {
    "name": "ipython",
    "version": 3
   },
   "file_extension": ".py",
   "mimetype": "text/x-python",
   "name": "python",
   "nbconvert_exporter": "python",
   "pygments_lexer": "ipython3",
   "version": "3.9.12"
  },
  "orig_nbformat": 4,
  "vscode": {
   "interpreter": {
    "hash": "1d5334fe9b82e8c016b8b2657765205a9a9ba0b9bc469dbf5ca7c631ff3e3ab7"
   }
  }
 },
 "nbformat": 4,
 "nbformat_minor": 2
}
