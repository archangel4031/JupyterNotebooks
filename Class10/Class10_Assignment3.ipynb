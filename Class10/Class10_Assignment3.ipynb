{
 "cells": [
  {
   "cell_type": "markdown",
   "metadata": {},
   "source": [
    "# Assignment 3\n",
    "\n",
    "## Task\n",
    "- Exception Handling. Ask user to enter a number, catch exception if they enter anything else\n"
   ]
  },
  {
   "cell_type": "markdown",
   "metadata": {},
   "source": [
    "#### Get User Input\n",
    "Now this would be done in a single cell since we need a full Try Except Else block"
   ]
  },
  {
   "cell_type": "code",
   "execution_count": 2,
   "metadata": {},
   "outputs": [
    {
     "name": "stdout",
     "output_type": "stream",
     "text": [
      "You were asked to enter a number. You raised <class 'ValueError'> error!\n",
      "YOU ARE A HORRIBLE PERSON!\n"
     ]
    }
   ],
   "source": [
    "# Start a try block, we know this section might fail due to bad cast to integer\n",
    "try:\n",
    "    userInput = int(input(\"Enter a Number: \"))\n",
    "    print(\"You entered:\", userInput, \"Which is a number!\")\n",
    "except Exception as excp:\n",
    "    # They raised an exception! Tell them they are a horrible person\n",
    "    print(f\"You were asked to enter a number. You raised {excp.__class__} error!\\nYOU ARE A HORRIBLE PERSON!\")\n",
    "else:\n",
    "    # They did not throw an exception! Tell them \"The cake is a lie!\"\n",
    "    print(\"No exception found!\")\n",
    "finally:\n",
    "    # Just leaving this empty to remember that this option also exists for try block\n",
    "    pass\n"
   ]
  }
 ],
 "metadata": {
  "kernelspec": {
   "display_name": "Python 3.9.12 ('base')",
   "language": "python",
   "name": "python3"
  },
  "language_info": {
   "codemirror_mode": {
    "name": "ipython",
    "version": 3
   },
   "file_extension": ".py",
   "mimetype": "text/x-python",
   "name": "python",
   "nbconvert_exporter": "python",
   "pygments_lexer": "ipython3",
   "version": "3.9.12"
  },
  "orig_nbformat": 4,
  "vscode": {
   "interpreter": {
    "hash": "1d5334fe9b82e8c016b8b2657765205a9a9ba0b9bc469dbf5ca7c631ff3e3ab7"
   }
  }
 },
 "nbformat": 4,
 "nbformat_minor": 2
}
